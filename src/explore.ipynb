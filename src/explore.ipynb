{
    "cells": [
        {
            "cell_type": "markdown",
            "metadata": {},
            "source": [
                "# Explore here"
            ]
        },
        {
            "cell_type": "markdown",
            "metadata": {},
            "source": [
                "**API PROJECT**\n"
            ]
        },
        {
            "cell_type": "code",
            "execution_count": 1,
            "metadata": {},
            "outputs": [],
            "source": [
                "import os\n",
                "import pandas as pd\n",
                "import seaborn as sns\n",
                "from dotenv import load_dotenv\n",
                "\n",
                "# load the .env file variables\n",
                "load_dotenv()\n",
                "\n",
                "import os\n",
                "\n",
                "client_id = os.environ.get(\"CLIENT_ID\")\n",
                "client_secret = os.environ.get(\"CLIENT_SECRET\")\n",
                "\n"
            ]
        },
        {
            "cell_type": "code",
            "execution_count": 2,
            "metadata": {},
            "outputs": [],
            "source": [
                "import spotipy\n",
                "from spotipy.oauth2 import SpotifyClientCredentials\n",
                "\n",
                "artist_id = '6fOMl44jA4Sp5b9PpYCkzz'\n",
                "\n",
                "spotify = spotipy.Spotify(client_credentials_manager=SpotifyClientCredentials(client_id=client_id,client_secret=client_secret))\n",
                "results = spotify.artist_top_tracks(artist_id)"
            ]
        },
        {
            "cell_type": "code",
            "execution_count": 4,
            "metadata": {},
            "outputs": [
                {
                    "name": "stdout",
                    "output_type": "stream",
                    "text": [
                        "track    : Let You Down\n",
                        "track    : The Search\n",
                        "track    : Lie\n",
                        "track    : HOPE\n",
                        "track    : HAPPY\n",
                        "track    : When I Grow Up\n",
                        "track    : If You Want Love\n",
                        "track    : Time\n",
                        "track    : RUNNING\n",
                        "track    : Paralyzed\n"
                    ]
                }
            ],
            "source": [
                "songs=[]\n",
                "popularity=[]\n",
                "duration=[]\n",
                "\n",
                "for track in results['tracks'][:10]:\n",
                "    print('track    : ' + track['name'])\n",
                "    songs.append(track['name'])\n",
                "    popularity.append(track['popularity'])\n",
                "    duration.append(track['duration_ms']/(1000*60)%60)"
            ]
        },
        {
            "cell_type": "code",
            "execution_count": 5,
            "metadata": {},
            "outputs": [],
            "source": [
                "df = pd.DataFrame()\n",
                "\n",
                "df['songs'] = songs\n",
                "df['popularity'] = popularity\n",
                "df['duration'] = duration"
            ]
        },
        {
            "cell_type": "code",
            "execution_count": 6,
            "metadata": {},
            "outputs": [
                {
                    "data": {
                        "text/html": [
                            "<div>\n",
                            "<style scoped>\n",
                            "    .dataframe tbody tr th:only-of-type {\n",
                            "        vertical-align: middle;\n",
                            "    }\n",
                            "\n",
                            "    .dataframe tbody tr th {\n",
                            "        vertical-align: top;\n",
                            "    }\n",
                            "\n",
                            "    .dataframe thead th {\n",
                            "        text-align: right;\n",
                            "    }\n",
                            "</style>\n",
                            "<table border=\"1\" class=\"dataframe\">\n",
                            "  <thead>\n",
                            "    <tr style=\"text-align: right;\">\n",
                            "      <th></th>\n",
                            "      <th>songs</th>\n",
                            "      <th>popularity</th>\n",
                            "      <th>duration</th>\n",
                            "    </tr>\n",
                            "  </thead>\n",
                            "  <tbody>\n",
                            "    <tr>\n",
                            "      <th>0</th>\n",
                            "      <td>Let You Down</td>\n",
                            "      <td>76</td>\n",
                            "      <td>3.535333</td>\n",
                            "    </tr>\n",
                            "    <tr>\n",
                            "      <th>1</th>\n",
                            "      <td>The Search</td>\n",
                            "      <td>71</td>\n",
                            "      <td>4.134217</td>\n",
                            "    </tr>\n",
                            "    <tr>\n",
                            "      <th>2</th>\n",
                            "      <td>Lie</td>\n",
                            "      <td>72</td>\n",
                            "      <td>3.486883</td>\n",
                            "    </tr>\n",
                            "    <tr>\n",
                            "      <th>3</th>\n",
                            "      <td>HOPE</td>\n",
                            "      <td>67</td>\n",
                            "      <td>4.407883</td>\n",
                            "    </tr>\n",
                            "    <tr>\n",
                            "      <th>4</th>\n",
                            "      <td>HAPPY</td>\n",
                            "      <td>70</td>\n",
                            "      <td>4.044850</td>\n",
                            "    </tr>\n",
                            "    <tr>\n",
                            "      <th>5</th>\n",
                            "      <td>When I Grow Up</td>\n",
                            "      <td>69</td>\n",
                            "      <td>3.280000</td>\n",
                            "    </tr>\n",
                            "    <tr>\n",
                            "      <th>6</th>\n",
                            "      <td>If You Want Love</td>\n",
                            "      <td>69</td>\n",
                            "      <td>3.323100</td>\n",
                            "    </tr>\n",
                            "    <tr>\n",
                            "      <th>7</th>\n",
                            "      <td>Time</td>\n",
                            "      <td>67</td>\n",
                            "      <td>4.007133</td>\n",
                            "    </tr>\n",
                            "    <tr>\n",
                            "      <th>8</th>\n",
                            "      <td>RUNNING</td>\n",
                            "      <td>66</td>\n",
                            "      <td>4.225533</td>\n",
                            "    </tr>\n",
                            "    <tr>\n",
                            "      <th>9</th>\n",
                            "      <td>Paralyzed</td>\n",
                            "      <td>66</td>\n",
                            "      <td>4.507550</td>\n",
                            "    </tr>\n",
                            "  </tbody>\n",
                            "</table>\n",
                            "</div>"
                        ],
                        "text/plain": [
                            "              songs  popularity  duration\n",
                            "0      Let You Down          76  3.535333\n",
                            "1        The Search          71  4.134217\n",
                            "2               Lie          72  3.486883\n",
                            "3              HOPE          67  4.407883\n",
                            "4             HAPPY          70  4.044850\n",
                            "5    When I Grow Up          69  3.280000\n",
                            "6  If You Want Love          69  3.323100\n",
                            "7              Time          67  4.007133\n",
                            "8           RUNNING          66  4.225533\n",
                            "9         Paralyzed          66  4.507550"
                        ]
                    },
                    "execution_count": 6,
                    "metadata": {},
                    "output_type": "execute_result"
                }
            ],
            "source": [
                "df"
            ]
        },
        {
            "cell_type": "code",
            "execution_count": 7,
            "metadata": {},
            "outputs": [
                {
                    "data": {
                        "text/html": [
                            "<div>\n",
                            "<style scoped>\n",
                            "    .dataframe tbody tr th:only-of-type {\n",
                            "        vertical-align: middle;\n",
                            "    }\n",
                            "\n",
                            "    .dataframe tbody tr th {\n",
                            "        vertical-align: top;\n",
                            "    }\n",
                            "\n",
                            "    .dataframe thead th {\n",
                            "        text-align: right;\n",
                            "    }\n",
                            "</style>\n",
                            "<table border=\"1\" class=\"dataframe\">\n",
                            "  <thead>\n",
                            "    <tr style=\"text-align: right;\">\n",
                            "      <th></th>\n",
                            "      <th>songs</th>\n",
                            "      <th>popularity</th>\n",
                            "      <th>duration</th>\n",
                            "    </tr>\n",
                            "  </thead>\n",
                            "  <tbody>\n",
                            "    <tr>\n",
                            "      <th>0</th>\n",
                            "      <td>Let You Down</td>\n",
                            "      <td>76</td>\n",
                            "      <td>3.535333</td>\n",
                            "    </tr>\n",
                            "    <tr>\n",
                            "      <th>2</th>\n",
                            "      <td>Lie</td>\n",
                            "      <td>72</td>\n",
                            "      <td>3.486883</td>\n",
                            "    </tr>\n",
                            "    <tr>\n",
                            "      <th>1</th>\n",
                            "      <td>The Search</td>\n",
                            "      <td>71</td>\n",
                            "      <td>4.134217</td>\n",
                            "    </tr>\n",
                            "    <tr>\n",
                            "      <th>4</th>\n",
                            "      <td>HAPPY</td>\n",
                            "      <td>70</td>\n",
                            "      <td>4.044850</td>\n",
                            "    </tr>\n",
                            "    <tr>\n",
                            "      <th>5</th>\n",
                            "      <td>When I Grow Up</td>\n",
                            "      <td>69</td>\n",
                            "      <td>3.280000</td>\n",
                            "    </tr>\n",
                            "    <tr>\n",
                            "      <th>6</th>\n",
                            "      <td>If You Want Love</td>\n",
                            "      <td>69</td>\n",
                            "      <td>3.323100</td>\n",
                            "    </tr>\n",
                            "    <tr>\n",
                            "      <th>3</th>\n",
                            "      <td>HOPE</td>\n",
                            "      <td>67</td>\n",
                            "      <td>4.407883</td>\n",
                            "    </tr>\n",
                            "    <tr>\n",
                            "      <th>7</th>\n",
                            "      <td>Time</td>\n",
                            "      <td>67</td>\n",
                            "      <td>4.007133</td>\n",
                            "    </tr>\n",
                            "    <tr>\n",
                            "      <th>8</th>\n",
                            "      <td>RUNNING</td>\n",
                            "      <td>66</td>\n",
                            "      <td>4.225533</td>\n",
                            "    </tr>\n",
                            "    <tr>\n",
                            "      <th>9</th>\n",
                            "      <td>Paralyzed</td>\n",
                            "      <td>66</td>\n",
                            "      <td>4.507550</td>\n",
                            "    </tr>\n",
                            "  </tbody>\n",
                            "</table>\n",
                            "</div>"
                        ],
                        "text/plain": [
                            "              songs  popularity  duration\n",
                            "0      Let You Down          76  3.535333\n",
                            "2               Lie          72  3.486883\n",
                            "1        The Search          71  4.134217\n",
                            "4             HAPPY          70  4.044850\n",
                            "5    When I Grow Up          69  3.280000\n",
                            "6  If You Want Love          69  3.323100\n",
                            "3              HOPE          67  4.407883\n",
                            "7              Time          67  4.007133\n",
                            "8           RUNNING          66  4.225533\n",
                            "9         Paralyzed          66  4.507550"
                        ]
                    },
                    "execution_count": 7,
                    "metadata": {},
                    "output_type": "execute_result"
                }
            ],
            "source": [
                "df_ascending = df.sort_values(by='popularity', ascending=False)\n",
                "df_ascending"
            ]
        },
        {
            "cell_type": "code",
            "execution_count": 8,
            "metadata": {},
            "outputs": [
                {
                    "data": {
                        "text/html": [
                            "<div>\n",
                            "<style scoped>\n",
                            "    .dataframe tbody tr th:only-of-type {\n",
                            "        vertical-align: middle;\n",
                            "    }\n",
                            "\n",
                            "    .dataframe tbody tr th {\n",
                            "        vertical-align: top;\n",
                            "    }\n",
                            "\n",
                            "    .dataframe thead th {\n",
                            "        text-align: right;\n",
                            "    }\n",
                            "</style>\n",
                            "<table border=\"1\" class=\"dataframe\">\n",
                            "  <thead>\n",
                            "    <tr style=\"text-align: right;\">\n",
                            "      <th></th>\n",
                            "      <th>songs</th>\n",
                            "      <th>popularity</th>\n",
                            "      <th>duration</th>\n",
                            "    </tr>\n",
                            "  </thead>\n",
                            "  <tbody>\n",
                            "    <tr>\n",
                            "      <th>0</th>\n",
                            "      <td>Let You Down</td>\n",
                            "      <td>76</td>\n",
                            "      <td>3.535333</td>\n",
                            "    </tr>\n",
                            "    <tr>\n",
                            "      <th>2</th>\n",
                            "      <td>Lie</td>\n",
                            "      <td>72</td>\n",
                            "      <td>3.486883</td>\n",
                            "    </tr>\n",
                            "    <tr>\n",
                            "      <th>1</th>\n",
                            "      <td>The Search</td>\n",
                            "      <td>71</td>\n",
                            "      <td>4.134217</td>\n",
                            "    </tr>\n",
                            "  </tbody>\n",
                            "</table>\n",
                            "</div>"
                        ],
                        "text/plain": [
                            "          songs  popularity  duration\n",
                            "0  Let You Down          76  3.535333\n",
                            "2           Lie          72  3.486883\n",
                            "1    The Search          71  4.134217"
                        ]
                    },
                    "execution_count": 8,
                    "metadata": {},
                    "output_type": "execute_result"
                }
            ],
            "source": [
                "df_ascending.head(3)"
            ]
        },
        {
            "cell_type": "code",
            "execution_count": 9,
            "metadata": {},
            "outputs": [
                {
                    "data": {
                        "image/png": "[encoded data removed]",
                        "text/plain": [
                            "<Figure size 640x480 with 1 Axes>"
                        ]
                    },
                    "metadata": {},
                    "output_type": "display_data"
                }
            ],
            "source": [
                "Popularity_duration_tracks = df.plot.scatter(x='duration',\n",
                "                      y='popularity',\n",
                "                      c='DarkBlue'\n",
                "                      )"
            ]
        },
        {
            "cell_type": "markdown",
            "metadata": {},
            "source": [
                "We can see that the most popular song of this artist, its duration is around 3.53 minutes, while the less popular is almost 5 minutes long. So in conclusion there is no relation between the duration of a song with its popularity, so it is not essential for it to be popular."
            ]
        },
        {
            "cell_type": "code",
            "execution_count": 7,
            "metadata": {},
            "outputs": [
                {
                    "ename": "SyntaxError",
                    "evalue": "f-string: expecting '}' (345253066.py, line 4)",
                    "output_type": "error",
                    "traceback": [
                        "\u001b[0;36m  Cell \u001b[0;32mIn[7], line 4\u001b[0;36m\u001b[0m\n\u001b[0;31m    connection_string = f\"postgresql://{\"access_token\": \"BQBkEv4iGWYgj76c8YSiS-mVz1OfYiOhQs10VELcjWFGrAZGtaqRCTBuyBqauAod-sNXpDeVL0ZVfVkoyaCBX3PKp4_QdmbRBHaZAW_GOUEvNIJN38c\", \"token_type\": \"Bearer\", \"expires_in\": 3600, \"expires_at\": 1735229809}\"\u001b[0m\n\u001b[0m                                         ^\u001b[0m\n\u001b[0;31mSyntaxError\u001b[0m\u001b[0;31m:\u001b[0m f-string: expecting '}'\n"
                    ]
                }
            ],
            "source": [
                "from sqlalchemy import create_engine\n",
                "import pandas as pd\n",
                "\n",
                "connection_string = f\"postgresql://{\"access_token\": \"BQBkEv4iGWYgj76c8YSiS-mVz1OfYiOhQs10VELcjWFGrAZGtaqRCTBuyBqauAod-sNXpDeVL0ZVfVkoyaCBX3PKp4_QdmbRBHaZAW_GOUEvNIJN38c\", \"token_type\": \"Bearer\", \"expires_in\": 3600, \"expires_at\": 1735229809}\"\n",
                "engine = create_engine(connection_string).execution_options(autocommit=True)\n",
                "engine.connect()\n",
                "\n",
                "df.to_sql(\n",
                "    name='SpotifyTracks',\n",
                "    con=engine,\n",
                "    if_exists='append',\n",
                "    index=False,\n",
                ")"
            ]
        }
    ],
    "metadata": {
        "kernelspec": {
            "display_name": "Python 3",
            "language": "python",
            "name": "python3"
        },
        "language_info": {
            "codemirror_mode": {
                "name": "ipython",
                "version": 3
            },
            "file_extension": ".py",
            "mimetype": "text/x-python",
            "name": "python",
            "nbconvert_exporter": "python",
            "pygments_lexer": "ipython3",
            "version": "3.11.4"
        },
        "orig_nbformat": 4
    },
    "nbformat": 4,
    "nbformat_minor": 2
}
